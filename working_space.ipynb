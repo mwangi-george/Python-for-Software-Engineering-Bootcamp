{
 "cells": [
  {
   "cell_type": "code",
   "execution_count": 5,
   "metadata": {},
   "outputs": [
    {
     "data": {
      "text/plain": [
       "{'road_id': 5,\n",
       " 'road_name': 'Mundoro - Kiganjo - Kimbo',\n",
       " 'lanes': 2,\n",
       " 'origin': 'Mundoro Town',\n",
       " 'destination': 'Kimbo'}"
      ]
     },
     "execution_count": 5,
     "metadata": {},
     "output_type": "execute_result"
    }
   ],
   "source": [
    "all_roads = {\n",
    "    1: {\n",
    "        \"road_id\": 1,\n",
    "        \"road_name\": \"Thika Super Highway\",\n",
    "        \"lanes\": 10,\n",
    "        \"origin\": \"Nairobi City\",\n",
    "        \"destination\": \"Thika Town\"\n",
    "    },\n",
    "    2: {\n",
    "        \"road_id\": 2,\n",
    "        \"road_name\": \"Nairobi-Nakuru Highway\",\n",
    "        \"lanes\": 4,\n",
    "        \"origin\": \"Nairobi City\",\n",
    "        \"destination\": \"Nakuru Town\"\n",
    "    },\n",
    "    3: {\n",
    "        \"road_id\": 3,\n",
    "        \"road_name\": \"Mombasa Road\",\n",
    "        \"lanes\": 6,\n",
    "        \"origin\": \"Nairobi City\",\n",
    "        \"destination\": \"Mombasa Town\"\n",
    "    },\n",
    "    4: {\n",
    "        \"road_id\": 4,\n",
    "        \"road_name\": \"Ngong Road\",\n",
    "        \"lanes\": 2,\n",
    "        \"origin\": \"Nairobi City\",\n",
    "        \"destination\": \"Ngong Town\"\n",
    "    },\n",
    "    5: {\n",
    "        \"road_id\": 5,\n",
    "        \"road_name\": \"Mundoro - Kiganjo - Kimbo\",\n",
    "        \"lanes\": 2,\n",
    "        \"origin\": \"Mundoro Town\",\n",
    "        \"destination\": \"Kimbo\"\n",
    "    }\n",
    "}\n",
    "\n",
    "all_roads[5]"
   ]
  },
  {
   "cell_type": "code",
   "execution_count": 12,
   "metadata": {},
   "outputs": [
    {
     "data": {
      "text/plain": [
       "{'id': 3, 'first_name': 'Michael', 'last_name': 'John II'}"
      ]
     },
     "execution_count": 12,
     "metadata": {},
     "output_type": "execute_result"
    }
   ],
   "source": [
    "all_names = {\n",
    "    \"default\": {\n",
    "        \"id\": 1,\n",
    "        \"first_name\": \"George\",\n",
    "        \"last_name\": \"Mwangi\"\n",
    "    },\n",
    "    \"user_1\": {\n",
    "        \"id\": 2,\n",
    "        \"first_name\": \"Alex\",\n",
    "        \"last_name\": \"McRuger\"\n",
    "    },\n",
    "    \"user_2\": {\n",
    "        \"id\": 3,\n",
    "        \"first_name\": \"James\",\n",
    "        \"last_name\": \"Bond\"\n",
    "    },\n",
    "    \"user_3\": {\n",
    "        \"id\": 3,\n",
    "        \"first_name\": \"Michael\",\n",
    "        \"last_name\": \"John II\"\n",
    "    }\n",
    "}\n",
    "all_names[\"user_3\"]"
   ]
  },
  {
   "cell_type": "code",
   "execution_count": 6,
   "metadata": {},
   "outputs": [
    {
     "data": {
      "text/plain": [
       "{0: {'title': 'Laptop', 'year_made': 2023, 'company': 'HP'},\n",
       " 1: {'title': 'Laptop', 'year_made': 2023, 'company': 'HP'},\n",
       " 2: {'title': 'Laptop', 'year_made': 2023, 'company': 'HP'},\n",
       " 3: {'title': 'Laptop', 'year_made': 2023, 'company': 'HP'}}"
      ]
     },
     "execution_count": 6,
     "metadata": {},
     "output_type": "execute_result"
    }
   ],
   "source": [
    "\n",
    "all_devices = {\n",
    "    0: {\n",
    "        \"title\": \"Laptop\",\n",
    "        \"year_made\": 2023,\n",
    "        \"company\": \"HP\"\n",
    "    },\n",
    "    1: {\n",
    "        \"title\": \"Laptop\",\n",
    "        \"year_made\": 2023,\n",
    "        \"company\": \"HP\"\n",
    "    },\n",
    "    2: {\n",
    "        \"title\": \"Laptop\",\n",
    "        \"year_made\": 2023,\n",
    "        \"company\": \"HP\"\n",
    "    },\n",
    "    3: {\n",
    "        \"title\": \"Laptop\",\n",
    "        \"year_made\": 2023,\n",
    "        \"company\": \"HP\"\n",
    "    }\n",
    "}\n",
    "\n",
    "all_devices"
   ]
  },
  {
   "cell_type": "code",
   "execution_count": 9,
   "metadata": {},
   "outputs": [
    {
     "data": {
      "text/plain": [
       "{0: {'title': 'Laptop', 'year_made': 2023, 'company': 'HP'},\n",
       " 1: {'title': 'Laptop', 'year_made': 2023, 'company': 'HP'},\n",
       " 2: {'title': 'Laptop', 'year_made': 2023, 'company': 'HP'}}"
      ]
     },
     "execution_count": 9,
     "metadata": {},
     "output_type": "execute_result"
    }
   ],
   "source": [
    "sub = {k: v for k, v in all_devices.items() if 0 <= k <= 2}\n",
    "sub"
   ]
  },
  {
   "cell_type": "code",
   "execution_count": 10,
   "metadata": {},
   "outputs": [
    {
     "name": "stdout",
     "output_type": "stream",
     "text": [
      "{0: {'item_id': 0, 'item_name': 'knife', 'item_description': 'For cutting stuff'}, 1: {'item_id': 1, 'item_name': 'chair', 'item_description': 'For seating'}, 2: {'item_id': 2, 'item_name': 'radio', 'item_description': 'For playing music'}}\n"
     ]
    }
   ],
   "source": [
    "all_items = {\n",
    "    0: {\n",
    "        \"item_id\": 0,\n",
    "        \"item_name\": \"knife\",\n",
    "        \"item_description\": \"For cutting stuff\"\n",
    "    },\n",
    "    1: {\n",
    "        \"item_id\": 1,\n",
    "        \"item_name\": \"chair\",\n",
    "        \"item_description\": \"For seating\"\n",
    "    },\n",
    "    2: {\n",
    "        \"item_id\": 2,\n",
    "        \"item_name\": \"radio\",\n",
    "        \"item_description\": \"For playing music\"\n",
    "    }\n",
    "}\n",
    "\n",
    "items = {k: v for k, v in all_items.items() if 0 <= k <= 5}\n",
    "\n",
    "print(items)"
   ]
  },
  {
   "cell_type": "code",
   "execution_count": 11,
   "metadata": {},
   "outputs": [
    {
     "data": {
      "text/plain": [
       "dict_items([(0, {'title': 'Laptop', 'year_made': 2023, 'company': 'HP'}), (1, {'title': 'Laptop', 'year_made': 2023, 'company': 'HP'}), (2, {'title': 'Laptop', 'year_made': 2023, 'company': 'HP'}), (3, {'title': 'Laptop', 'year_made': 2023, 'company': 'HP'})])"
      ]
     },
     "execution_count": 11,
     "metadata": {},
     "output_type": "execute_result"
    }
   ],
   "source": [
    "all_devices.items()"
   ]
  },
  {
   "cell_type": "code",
   "execution_count": 14,
   "metadata": {},
   "outputs": [
    {
     "data": {
      "text/plain": [
       "{'item_id': 2,\n",
       " 'item_name': 'radio',\n",
       " 'item_description': 'For playing music',\n",
       " 'item_name_desc': 'radioFor playing music'}"
      ]
     },
     "execution_count": 14,
     "metadata": {},
     "output_type": "execute_result"
    }
   ],
   "source": [
    "xcv = {\n",
    "    \"item_id\": 2,\n",
    "    \"item_name\": \"radio\",\n",
    "    \"item_description\": \"For playing music\"\n",
    "}\n",
    "\n",
    "xcv.update(\n",
    "    {\n",
    "        \"item_name_desc\": xcv[\"item_name\"] + xcv[\"item_description\"]\n",
    "    }\n",
    ")\n",
    "\n",
    "xcv"
   ]
  }
 ],
 "metadata": {
  "kernelspec": {
   "display_name": "Python-for-Software-Engineering-Bootcamp-RwWnbUkS",
   "language": "python",
   "name": "python3"
  },
  "language_info": {
   "codemirror_mode": {
    "name": "ipython",
    "version": 3
   },
   "file_extension": ".py",
   "mimetype": "text/x-python",
   "name": "python",
   "nbconvert_exporter": "python",
   "pygments_lexer": "ipython3",
   "version": "3.11.5"
  }
 },
 "nbformat": 4,
 "nbformat_minor": 2
}
