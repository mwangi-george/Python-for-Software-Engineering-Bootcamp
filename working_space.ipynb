{
 "cells": [
  {
   "cell_type": "code",
   "execution_count": 5,
   "metadata": {},
   "outputs": [
    {
     "data": {
      "text/plain": [
       "{'road_id': 5,\n",
       " 'road_name': 'Mundoro - Kiganjo - Kimbo',\n",
       " 'lanes': 2,\n",
       " 'origin': 'Mundoro Town',\n",
       " 'destination': 'Kimbo'}"
      ]
     },
     "execution_count": 5,
     "metadata": {},
     "output_type": "execute_result"
    }
   ],
   "source": [
    "all_roads = {\n",
    "    1: {\n",
    "        \"road_id\": 1,\n",
    "        \"road_name\": \"Thika Super Highway\",\n",
    "        \"lanes\": 10,\n",
    "        \"origin\": \"Nairobi City\",\n",
    "        \"destination\": \"Thika Town\"\n",
    "    },\n",
    "    2: {\n",
    "        \"road_id\": 2,\n",
    "        \"road_name\": \"Nairobi-Nakuru Highway\",\n",
    "        \"lanes\": 4,\n",
    "        \"origin\": \"Nairobi City\",\n",
    "        \"destination\": \"Nakuru Town\"\n",
    "    },\n",
    "    3: {\n",
    "        \"road_id\": 3,\n",
    "        \"road_name\": \"Mombasa Road\",\n",
    "        \"lanes\": 6,\n",
    "        \"origin\": \"Nairobi City\",\n",
    "        \"destination\": \"Mombasa Town\"\n",
    "    },\n",
    "    4: {\n",
    "        \"road_id\": 4,\n",
    "        \"road_name\": \"Ngong Road\",\n",
    "        \"lanes\": 2,\n",
    "        \"origin\": \"Nairobi City\",\n",
    "        \"destination\": \"Ngong Town\"\n",
    "    },\n",
    "    5: {\n",
    "        \"road_id\": 5,\n",
    "        \"road_name\": \"Mundoro - Kiganjo - Kimbo\",\n",
    "        \"lanes\": 2,\n",
    "        \"origin\": \"Mundoro Town\",\n",
    "        \"destination\": \"Kimbo\"\n",
    "    }\n",
    "}\n",
    "\n",
    "all_roads[5]"
   ]
  },
  {
   "cell_type": "code",
   "execution_count": 10,
   "metadata": {},
   "outputs": [
    {
     "ename": "SyntaxError",
     "evalue": "invalid syntax (610693858.py, line 2)",
     "output_type": "error",
     "traceback": [
      "\u001b[1;36m  Cell \u001b[1;32mIn[10], line 2\u001b[1;36m\u001b[0m\n\u001b[1;33m    \"default\": {\u001b[0m\n\u001b[1;37m             ^\u001b[0m\n\u001b[1;31mSyntaxError\u001b[0m\u001b[1;31m:\u001b[0m invalid syntax\n"
     ]
    }
   ],
   "source": [
    "all_names = {\n",
    "    \"default\": {\n",
    "        \"id\": 1,\n",
    "        \"first_name\": \"George\",\n",
    "        \"last_name\": \"Mwangi\"\n",
    "    },\n",
    "    \"user_1\": {\n",
    "        \"id\": 2,\n",
    "        \"first_name\": \"Alex\",\n",
    "        \"last_name\": \"McRuger\"\n",
    "    },\n",
    "    \"user_1\": {\n",
    "        \"id\": 3,\n",
    "        \"first_name\": \"James\",\n",
    "        \"last_name\": \"Bond\"\n",
    "    }\n",
    "}\n",
    "all_names[\"user_1\"]"
   ]
  }
 ],
 "metadata": {
  "kernelspec": {
   "display_name": "Python-for-Software-Engineering-Bootcamp-RwWnbUkS",
   "language": "python",
   "name": "python3"
  },
  "language_info": {
   "codemirror_mode": {
    "name": "ipython",
    "version": 3
   },
   "file_extension": ".py",
   "mimetype": "text/x-python",
   "name": "python",
   "nbconvert_exporter": "python",
   "pygments_lexer": "ipython3",
   "version": "3.11.5"
  }
 },
 "nbformat": 4,
 "nbformat_minor": 2
}
