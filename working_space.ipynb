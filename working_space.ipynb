{
 "cells": [
  {
   "cell_type": "code",
   "execution_count": 5,
   "metadata": {},
   "outputs": [
    {
     "data": {
      "text/plain": [
       "{'road_id': 5,\n",
       " 'road_name': 'Mundoro - Kiganjo - Kimbo',\n",
       " 'lanes': 2,\n",
       " 'origin': 'Mundoro Town',\n",
       " 'destination': 'Kimbo'}"
      ]
     },
     "execution_count": 5,
     "metadata": {},
     "output_type": "execute_result"
    }
   ],
   "source": [
    "all_roads = {\n",
    "    1: {\n",
    "        \"road_id\": 1,\n",
    "        \"road_name\": \"Thika Super Highway\",\n",
    "        \"lanes\": 10,\n",
    "        \"origin\": \"Nairobi City\",\n",
    "        \"destination\": \"Thika Town\"\n",
    "    },\n",
    "    2: {\n",
    "        \"road_id\": 2,\n",
    "        \"road_name\": \"Nairobi-Nakuru Highway\",\n",
    "        \"lanes\": 4,\n",
    "        \"origin\": \"Nairobi City\",\n",
    "        \"destination\": \"Nakuru Town\"\n",
    "    },\n",
    "    3: {\n",
    "        \"road_id\": 3,\n",
    "        \"road_name\": \"Mombasa Road\",\n",
    "        \"lanes\": 6,\n",
    "        \"origin\": \"Nairobi City\",\n",
    "        \"destination\": \"Mombasa Town\"\n",
    "    },\n",
    "    4: {\n",
    "        \"road_id\": 4,\n",
    "        \"road_name\": \"Ngong Road\",\n",
    "        \"lanes\": 2,\n",
    "        \"origin\": \"Nairobi City\",\n",
    "        \"destination\": \"Ngong Town\"\n",
    "    },\n",
    "    5: {\n",
    "        \"road_id\": 5,\n",
    "        \"road_name\": \"Mundoro - Kiganjo - Kimbo\",\n",
    "        \"lanes\": 2,\n",
    "        \"origin\": \"Mundoro Town\",\n",
    "        \"destination\": \"Kimbo\"\n",
    "    }\n",
    "}\n",
    "\n",
    "all_roads[5]"
   ]
  },
  {
   "cell_type": "code",
   "execution_count": 12,
   "metadata": {},
   "outputs": [
    {
     "data": {
      "text/plain": [
       "{'id': 3, 'first_name': 'Michael', 'last_name': 'John II'}"
      ]
     },
     "execution_count": 12,
     "metadata": {},
     "output_type": "execute_result"
    }
   ],
   "source": [
    "all_names = {\n",
    "    \"default\": {\n",
    "        \"id\": 1,\n",
    "        \"first_name\": \"George\",\n",
    "        \"last_name\": \"Mwangi\"\n",
    "    },\n",
    "    \"user_1\": {\n",
    "        \"id\": 2,\n",
    "        \"first_name\": \"Alex\",\n",
    "        \"last_name\": \"McRuger\"\n",
    "    },\n",
    "    \"user_2\": {\n",
    "        \"id\": 3,\n",
    "        \"first_name\": \"James\",\n",
    "        \"last_name\": \"Bond\"\n",
    "    },\n",
    "    \"user_3\": {\n",
    "        \"id\": 3,\n",
    "        \"first_name\": \"Michael\",\n",
    "        \"last_name\": \"John II\"\n",
    "    }\n",
    "}\n",
    "all_names[\"user_3\"]"
   ]
  },
  {
   "cell_type": "code",
   "execution_count": 2,
   "metadata": {},
   "outputs": [
    {
     "data": {
      "text/plain": [
       "{'title': 'Laptop', 'year_made': 2023, 'company': 'HP'}"
      ]
     },
     "execution_count": 2,
     "metadata": {},
     "output_type": "execute_result"
    }
   ],
   "source": [
    "\n",
    "all_devices = {\n",
    "    0: {\n",
    "        \"title\": \"Laptop\",\n",
    "        \"year_made\": 2023,\n",
    "        \"company\": \"HP\"\n",
    "    }\n",
    "}\n",
    "\n",
    "device = all_devices[0]\n",
    "\n",
    "device"
   ]
  }
 ],
 "metadata": {
  "kernelspec": {
   "display_name": "Python-for-Software-Engineering-Bootcamp-RwWnbUkS",
   "language": "python",
   "name": "python3"
  },
  "language_info": {
   "codemirror_mode": {
    "name": "ipython",
    "version": 3
   },
   "file_extension": ".py",
   "mimetype": "text/x-python",
   "name": "python",
   "nbconvert_exporter": "python",
   "pygments_lexer": "ipython3",
   "version": "3.11.5"
  }
 },
 "nbformat": 4,
 "nbformat_minor": 2
}
